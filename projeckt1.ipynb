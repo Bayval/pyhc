{
 "cells": [
  {
   "cell_type": "code",
   "execution_count": 1,
   "id": "initial_id",
   "metadata": {
    "collapsed": true,
    "ExecuteTime": {
     "end_time": "2024-06-21T15:34:32.958086Z",
     "start_time": "2024-06-21T15:34:32.946170Z"
    }
   },
   "outputs": [],
   "source": [
    "import pandas as pd\n",
    "import numpy as np\n",
    "import matplotlib.pyplot as plt\n",
    "import seaborn as sns\n",
    "import sys"
   ]
  },
  {
   "cell_type": "markdown",
   "source": [],
   "metadata": {
    "collapsed": false
   },
   "id": "dc28a0f3aaa32676"
  },
  {
   "cell_type": "markdown",
   "source": [
    "Проект e-learning: вариант 2\n",
    "Продакт-менеджер Василий попросил вас проанализировать завершенные уроки и ответить на следующие вопросы:\n",
    "\n",
    "1. Сколько студентов успешно сдали только один курс? (Успешная сдача — это зачёт по курсу на экзамене) (7 баллов).\n",
    "\n",
    "2. Выяви самый сложный и самый простой экзамен: найди курсы и экзамены в рамках курса, которые обладают самой низкой и самой высокой завершаемостью*. (10 баллов)\n",
    "\n",
    "3. По каждому предмету определи средний срок сдачи экзаменов (под сдачей понимаем последнее успешное прохождение экзамена студентом). (7 баллов) \n",
    "\n",
    "4. Выяви самые популярные предметы (ТОП-3) по количеству регистраций на них. А также предметы с самым большим оттоком (ТОП-3). (8 баллов)\n",
    "\n",
    "5. Используя pandas, в период с начала 2013 по конец 2014 выяви семестр с самой низкой завершаемостью курсов и самыми долгими средними сроками сдачи курсов.  (15 баллов) \n",
    "\n",
    "6. Часто для качественного анализа аудитории используют подходы, основанные на сегментации. Используя python, построй адаптированные RFM-кластеры студентов, чтобы качественно оценить свою аудиторию. В адаптированной кластеризации можешь выбрать следующие метрики: R - среднее время сдачи одного экзамена, F - завершаемость курсов, M - среднее количество баллов, получаемое за экзамен. Подробно опиши, как ты создавал кластеры. Для каждого RFM-сегмента построй границы метрик recency, frequency и monetary для интерпретации этих кластеров. Описание подхода можно найти тут. (23 балла)\n",
    "\n",
    "Для решения задачи проведи предварительное исследование данных и сформулируй, что должно считаться курсом. Обосновать свой выбор ты можешь с помощью фактов сдачи экзаменов, распределения студентов и уникального идентификатора курса.\n",
    "\n",
    "*завершаемость = кол-во успешных экзаменов / кол-во всех попыток сдать экзамен\n",
    "\n",
    "Файлы: \n",
    "\n",
    "assessments.csv — этот файл содержит информацию об оценках в тесте. Обычно каждый предмет в семестре включает ряд тестов с оценками, за которыми следует заключительный экзаменационный тест (экзамен).\n",
    "code_module — идентификационный код предмета.\n",
    "\n",
    "code_presentation — семестр (Идентификационный код).\n",
    "\n",
    "id_assessment — тест (Идентификационный номер ассессмента).\n",
    "\n",
    "assessment_type — тип теста. Существуют три типа оценивания: оценка преподавателя (TMA), компьютерная оценка (СМА), экзамен по курсу (Exam).\n",
    "\n",
    "date — информация об окончательной дате сдачи теста. Рассчитывается как количество дней с момента начала семестра. Дата начала семестра имеет номер 0 (ноль).\n",
    "\n",
    "weight — вес теста в % в оценке за курс. Обычно экзамены рассматриваются отдельно и имеют вес 100%; сумма всех остальных оценок составляет 100%.\n",
    "\n",
    "courses.csv — файл содержит список предметов по семестрам.\n",
    "code_module — предмет (идентификационный код).\n",
    "\n",
    "code_presentation — семестр (идентификационный код).\n",
    "\n",
    "module_presentation_length — продолжительность семестра в днях.\n",
    "\n",
    "studentAssessment.csv — этот файл содержит результаты тестов студентов. Если учащийся не отправляет работу на оценку, результат не записывается в таблицу.\n",
    "id_assessment — тест (идентификационный номер).\n",
    "\n",
    "id_student — идентификационный номер студента.\n",
    "\n",
    "date_submitted — дата сдачи теста студентом, измеряемая как количество дней с начала семестра.\n",
    "\n",
    "is_banked — факт перезачета теста с прошлого семестра (иногда курсы перезачитывают студентам, вернувшимся из академического отпуска).\n",
    "\n",
    "score — оценка учащегося в этом тесте. Диапазон составляет от 0 до 100. Оценка ниже 40 неудачная/неуспешная сдача теста.\n",
    "\n",
    "studentRegistration.csv — этот файл содержит информацию о времени, когда студент зарегистрировался для прохождения курса в семестре.\n",
    "code_module — предмет (идентификационный код).\n",
    "\n",
    "code_presentation — семестр (идентификационный код)\n",
    "\n",
    "id_student — идентификационный номер студента.\n",
    "\n",
    "date_registration — дата регистрации студента. Это количество дней, измеренное от начала семестра (например, отрицательное значение -30 означает, что студент зарегистрировался на прохождение курса за 30 дней до его начала).\n",
    "\n",
    "date_unregistration — дата отмены регистрации студента с предмета. У студентов, окончивших курс, это поле остается пустым."
   ],
   "metadata": {
    "collapsed": false
   },
   "id": "177248da5accc020"
  },
  {
   "cell_type": "code",
   "outputs": [],
   "source": [
    "assessments = pd.read_csv('assessments.csv')\n",
    "courses = pd.read_csv('courses.csv')\n",
    "studentAssessment = pd.read_csv('studentAssessment.csv')\n",
    "studentRegistration = pd.read_csv('studentRegistration.csv')"
   ],
   "metadata": {
    "collapsed": false,
    "ExecuteTime": {
     "end_time": "2024-06-21T15:34:33.232272Z",
     "start_time": "2024-06-21T15:34:32.961098Z"
    }
   },
   "id": "48794200b82b0805",
   "execution_count": 2
  },
  {
   "cell_type": "code",
   "outputs": [
    {
     "data": {
      "text/plain": "   code_module code_presentation  module_presentation_length\n0          AAA             2013J                         268\n1          AAA             2014J                         269\n2          BBB             2013J                         268\n3          BBB             2014J                         262\n4          BBB             2013B                         240\n5          BBB             2014B                         234\n6          CCC             2014J                         269\n7          CCC             2014B                         241\n8          DDD             2013J                         261\n9          DDD             2014J                         262\n10         DDD             2013B                         240\n11         DDD             2014B                         241\n12         EEE             2013J                         268\n13         EEE             2014J                         269\n14         EEE             2014B                         241\n15         FFF             2013J                         268\n16         FFF             2014J                         269\n17         FFF             2013B                         240\n18         FFF             2014B                         241\n19         GGG             2013J                         261\n20         GGG             2014J                         269\n21         GGG             2014B                         241",
      "text/html": "<div>\n<style scoped>\n    .dataframe tbody tr th:only-of-type {\n        vertical-align: middle;\n    }\n\n    .dataframe tbody tr th {\n        vertical-align: top;\n    }\n\n    .dataframe thead th {\n        text-align: right;\n    }\n</style>\n<table border=\"1\" class=\"dataframe\">\n  <thead>\n    <tr style=\"text-align: right;\">\n      <th></th>\n      <th>code_module</th>\n      <th>code_presentation</th>\n      <th>module_presentation_length</th>\n    </tr>\n  </thead>\n  <tbody>\n    <tr>\n      <th>0</th>\n      <td>AAA</td>\n      <td>2013J</td>\n      <td>268</td>\n    </tr>\n    <tr>\n      <th>1</th>\n      <td>AAA</td>\n      <td>2014J</td>\n      <td>269</td>\n    </tr>\n    <tr>\n      <th>2</th>\n      <td>BBB</td>\n      <td>2013J</td>\n      <td>268</td>\n    </tr>\n    <tr>\n      <th>3</th>\n      <td>BBB</td>\n      <td>2014J</td>\n      <td>262</td>\n    </tr>\n    <tr>\n      <th>4</th>\n      <td>BBB</td>\n      <td>2013B</td>\n      <td>240</td>\n    </tr>\n    <tr>\n      <th>5</th>\n      <td>BBB</td>\n      <td>2014B</td>\n      <td>234</td>\n    </tr>\n    <tr>\n      <th>6</th>\n      <td>CCC</td>\n      <td>2014J</td>\n      <td>269</td>\n    </tr>\n    <tr>\n      <th>7</th>\n      <td>CCC</td>\n      <td>2014B</td>\n      <td>241</td>\n    </tr>\n    <tr>\n      <th>8</th>\n      <td>DDD</td>\n      <td>2013J</td>\n      <td>261</td>\n    </tr>\n    <tr>\n      <th>9</th>\n      <td>DDD</td>\n      <td>2014J</td>\n      <td>262</td>\n    </tr>\n    <tr>\n      <th>10</th>\n      <td>DDD</td>\n      <td>2013B</td>\n      <td>240</td>\n    </tr>\n    <tr>\n      <th>11</th>\n      <td>DDD</td>\n      <td>2014B</td>\n      <td>241</td>\n    </tr>\n    <tr>\n      <th>12</th>\n      <td>EEE</td>\n      <td>2013J</td>\n      <td>268</td>\n    </tr>\n    <tr>\n      <th>13</th>\n      <td>EEE</td>\n      <td>2014J</td>\n      <td>269</td>\n    </tr>\n    <tr>\n      <th>14</th>\n      <td>EEE</td>\n      <td>2014B</td>\n      <td>241</td>\n    </tr>\n    <tr>\n      <th>15</th>\n      <td>FFF</td>\n      <td>2013J</td>\n      <td>268</td>\n    </tr>\n    <tr>\n      <th>16</th>\n      <td>FFF</td>\n      <td>2014J</td>\n      <td>269</td>\n    </tr>\n    <tr>\n      <th>17</th>\n      <td>FFF</td>\n      <td>2013B</td>\n      <td>240</td>\n    </tr>\n    <tr>\n      <th>18</th>\n      <td>FFF</td>\n      <td>2014B</td>\n      <td>241</td>\n    </tr>\n    <tr>\n      <th>19</th>\n      <td>GGG</td>\n      <td>2013J</td>\n      <td>261</td>\n    </tr>\n    <tr>\n      <th>20</th>\n      <td>GGG</td>\n      <td>2014J</td>\n      <td>269</td>\n    </tr>\n    <tr>\n      <th>21</th>\n      <td>GGG</td>\n      <td>2014B</td>\n      <td>241</td>\n    </tr>\n  </tbody>\n</table>\n</div>"
     },
     "execution_count": 3,
     "metadata": {},
     "output_type": "execute_result"
    }
   ],
   "source": [
    "courses"
   ],
   "metadata": {
    "collapsed": false,
    "ExecuteTime": {
     "end_time": "2024-06-21T15:34:33.272754Z",
     "start_time": "2024-06-21T15:34:33.234283Z"
    }
   },
   "id": "11f2bced845ce437",
   "execution_count": 3
  },
  {
   "cell_type": "code",
   "outputs": [
    {
     "data": {
      "text/plain": "    code_module code_presentation  id_assessment assessment_type   date  \\\n0           AAA             2013J           1752             TMA   19.0   \n1           AAA             2013J           1753             TMA   54.0   \n2           AAA             2013J           1754             TMA  117.0   \n3           AAA             2013J           1755             TMA  166.0   \n4           AAA             2013J           1756             TMA  215.0   \n..          ...               ...            ...             ...    ...   \n201         GGG             2014J          37443             CMA  229.0   \n202         GGG             2014J          37435             TMA   61.0   \n203         GGG             2014J          37436             TMA  124.0   \n204         GGG             2014J          37437             TMA  173.0   \n205         GGG             2014J          37444            Exam  229.0   \n\n     weight  \n0      10.0  \n1      20.0  \n2      20.0  \n3      20.0  \n4      30.0  \n..      ...  \n201     0.0  \n202     0.0  \n203     0.0  \n204     0.0  \n205   100.0  \n\n[206 rows x 6 columns]",
      "text/html": "<div>\n<style scoped>\n    .dataframe tbody tr th:only-of-type {\n        vertical-align: middle;\n    }\n\n    .dataframe tbody tr th {\n        vertical-align: top;\n    }\n\n    .dataframe thead th {\n        text-align: right;\n    }\n</style>\n<table border=\"1\" class=\"dataframe\">\n  <thead>\n    <tr style=\"text-align: right;\">\n      <th></th>\n      <th>code_module</th>\n      <th>code_presentation</th>\n      <th>id_assessment</th>\n      <th>assessment_type</th>\n      <th>date</th>\n      <th>weight</th>\n    </tr>\n  </thead>\n  <tbody>\n    <tr>\n      <th>0</th>\n      <td>AAA</td>\n      <td>2013J</td>\n      <td>1752</td>\n      <td>TMA</td>\n      <td>19.0</td>\n      <td>10.0</td>\n    </tr>\n    <tr>\n      <th>1</th>\n      <td>AAA</td>\n      <td>2013J</td>\n      <td>1753</td>\n      <td>TMA</td>\n      <td>54.0</td>\n      <td>20.0</td>\n    </tr>\n    <tr>\n      <th>2</th>\n      <td>AAA</td>\n      <td>2013J</td>\n      <td>1754</td>\n      <td>TMA</td>\n      <td>117.0</td>\n      <td>20.0</td>\n    </tr>\n    <tr>\n      <th>3</th>\n      <td>AAA</td>\n      <td>2013J</td>\n      <td>1755</td>\n      <td>TMA</td>\n      <td>166.0</td>\n      <td>20.0</td>\n    </tr>\n    <tr>\n      <th>4</th>\n      <td>AAA</td>\n      <td>2013J</td>\n      <td>1756</td>\n      <td>TMA</td>\n      <td>215.0</td>\n      <td>30.0</td>\n    </tr>\n    <tr>\n      <th>...</th>\n      <td>...</td>\n      <td>...</td>\n      <td>...</td>\n      <td>...</td>\n      <td>...</td>\n      <td>...</td>\n    </tr>\n    <tr>\n      <th>201</th>\n      <td>GGG</td>\n      <td>2014J</td>\n      <td>37443</td>\n      <td>CMA</td>\n      <td>229.0</td>\n      <td>0.0</td>\n    </tr>\n    <tr>\n      <th>202</th>\n      <td>GGG</td>\n      <td>2014J</td>\n      <td>37435</td>\n      <td>TMA</td>\n      <td>61.0</td>\n      <td>0.0</td>\n    </tr>\n    <tr>\n      <th>203</th>\n      <td>GGG</td>\n      <td>2014J</td>\n      <td>37436</td>\n      <td>TMA</td>\n      <td>124.0</td>\n      <td>0.0</td>\n    </tr>\n    <tr>\n      <th>204</th>\n      <td>GGG</td>\n      <td>2014J</td>\n      <td>37437</td>\n      <td>TMA</td>\n      <td>173.0</td>\n      <td>0.0</td>\n    </tr>\n    <tr>\n      <th>205</th>\n      <td>GGG</td>\n      <td>2014J</td>\n      <td>37444</td>\n      <td>Exam</td>\n      <td>229.0</td>\n      <td>100.0</td>\n    </tr>\n  </tbody>\n</table>\n<p>206 rows × 6 columns</p>\n</div>"
     },
     "execution_count": 4,
     "metadata": {},
     "output_type": "execute_result"
    }
   ],
   "source": [
    "assessments"
   ],
   "metadata": {
    "collapsed": false,
    "ExecuteTime": {
     "end_time": "2024-06-21T15:34:33.308899Z",
     "start_time": "2024-06-21T15:34:33.276754Z"
    }
   },
   "id": "c1fe3485c2d1a07a",
   "execution_count": 4
  },
  {
   "cell_type": "markdown",
   "source": [
    "# 1) Сколько студентов успешно сдали только один курс? (Успешная сдача — это зачёт по курсу на экзамене)"
   ],
   "metadata": {
    "collapsed": false
   },
   "id": "92a9e1a061f567e6"
  },
  {
   "cell_type": "code",
   "outputs": [],
   "source": [
    "df1 = studentAssessment.merge(assessments, on='id_assessment', how='inner').drop_duplicates()"
   ],
   "metadata": {
    "collapsed": false,
    "ExecuteTime": {
     "end_time": "2024-06-21T15:34:33.667638Z",
     "start_time": "2024-06-21T15:34:33.322006Z"
    }
   },
   "id": "5666fe92ff70fc3e",
   "execution_count": 5
  },
  {
   "cell_type": "code",
   "outputs": [
    {
     "data": {
      "text/plain": "        id_assessment  id_student  date_submitted  is_banked  score  \\\n0                1752       11391              18          0   78.0   \n1                1752       28400              22          0   70.0   \n2                1752       31604              17          0   72.0   \n3                1752       32885              26          0   69.0   \n4                1752       38053              19          0   79.0   \n...               ...         ...             ...        ...    ...   \n173907          37443      527538             227          0   60.0   \n173908          37443      534672             229          0  100.0   \n173909          37443      546286             215          0   80.0   \n173910          37443      546724             230          0  100.0   \n173911          37443      558486             224          0   80.0   \n\n       code_module code_presentation assessment_type   date  weight  \n0              AAA             2013J             TMA   19.0    10.0  \n1              AAA             2013J             TMA   19.0    10.0  \n2              AAA             2013J             TMA   19.0    10.0  \n3              AAA             2013J             TMA   19.0    10.0  \n4              AAA             2013J             TMA   19.0    10.0  \n...            ...               ...             ...    ...     ...  \n173907         GGG             2014J             CMA  229.0     0.0  \n173908         GGG             2014J             CMA  229.0     0.0  \n173909         GGG             2014J             CMA  229.0     0.0  \n173910         GGG             2014J             CMA  229.0     0.0  \n173911         GGG             2014J             CMA  229.0     0.0  \n\n[173912 rows x 10 columns]",
      "text/html": "<div>\n<style scoped>\n    .dataframe tbody tr th:only-of-type {\n        vertical-align: middle;\n    }\n\n    .dataframe tbody tr th {\n        vertical-align: top;\n    }\n\n    .dataframe thead th {\n        text-align: right;\n    }\n</style>\n<table border=\"1\" class=\"dataframe\">\n  <thead>\n    <tr style=\"text-align: right;\">\n      <th></th>\n      <th>id_assessment</th>\n      <th>id_student</th>\n      <th>date_submitted</th>\n      <th>is_banked</th>\n      <th>score</th>\n      <th>code_module</th>\n      <th>code_presentation</th>\n      <th>assessment_type</th>\n      <th>date</th>\n      <th>weight</th>\n    </tr>\n  </thead>\n  <tbody>\n    <tr>\n      <th>0</th>\n      <td>1752</td>\n      <td>11391</td>\n      <td>18</td>\n      <td>0</td>\n      <td>78.0</td>\n      <td>AAA</td>\n      <td>2013J</td>\n      <td>TMA</td>\n      <td>19.0</td>\n      <td>10.0</td>\n    </tr>\n    <tr>\n      <th>1</th>\n      <td>1752</td>\n      <td>28400</td>\n      <td>22</td>\n      <td>0</td>\n      <td>70.0</td>\n      <td>AAA</td>\n      <td>2013J</td>\n      <td>TMA</td>\n      <td>19.0</td>\n      <td>10.0</td>\n    </tr>\n    <tr>\n      <th>2</th>\n      <td>1752</td>\n      <td>31604</td>\n      <td>17</td>\n      <td>0</td>\n      <td>72.0</td>\n      <td>AAA</td>\n      <td>2013J</td>\n      <td>TMA</td>\n      <td>19.0</td>\n      <td>10.0</td>\n    </tr>\n    <tr>\n      <th>3</th>\n      <td>1752</td>\n      <td>32885</td>\n      <td>26</td>\n      <td>0</td>\n      <td>69.0</td>\n      <td>AAA</td>\n      <td>2013J</td>\n      <td>TMA</td>\n      <td>19.0</td>\n      <td>10.0</td>\n    </tr>\n    <tr>\n      <th>4</th>\n      <td>1752</td>\n      <td>38053</td>\n      <td>19</td>\n      <td>0</td>\n      <td>79.0</td>\n      <td>AAA</td>\n      <td>2013J</td>\n      <td>TMA</td>\n      <td>19.0</td>\n      <td>10.0</td>\n    </tr>\n    <tr>\n      <th>...</th>\n      <td>...</td>\n      <td>...</td>\n      <td>...</td>\n      <td>...</td>\n      <td>...</td>\n      <td>...</td>\n      <td>...</td>\n      <td>...</td>\n      <td>...</td>\n      <td>...</td>\n    </tr>\n    <tr>\n      <th>173907</th>\n      <td>37443</td>\n      <td>527538</td>\n      <td>227</td>\n      <td>0</td>\n      <td>60.0</td>\n      <td>GGG</td>\n      <td>2014J</td>\n      <td>CMA</td>\n      <td>229.0</td>\n      <td>0.0</td>\n    </tr>\n    <tr>\n      <th>173908</th>\n      <td>37443</td>\n      <td>534672</td>\n      <td>229</td>\n      <td>0</td>\n      <td>100.0</td>\n      <td>GGG</td>\n      <td>2014J</td>\n      <td>CMA</td>\n      <td>229.0</td>\n      <td>0.0</td>\n    </tr>\n    <tr>\n      <th>173909</th>\n      <td>37443</td>\n      <td>546286</td>\n      <td>215</td>\n      <td>0</td>\n      <td>80.0</td>\n      <td>GGG</td>\n      <td>2014J</td>\n      <td>CMA</td>\n      <td>229.0</td>\n      <td>0.0</td>\n    </tr>\n    <tr>\n      <th>173910</th>\n      <td>37443</td>\n      <td>546724</td>\n      <td>230</td>\n      <td>0</td>\n      <td>100.0</td>\n      <td>GGG</td>\n      <td>2014J</td>\n      <td>CMA</td>\n      <td>229.0</td>\n      <td>0.0</td>\n    </tr>\n    <tr>\n      <th>173911</th>\n      <td>37443</td>\n      <td>558486</td>\n      <td>224</td>\n      <td>0</td>\n      <td>80.0</td>\n      <td>GGG</td>\n      <td>2014J</td>\n      <td>CMA</td>\n      <td>229.0</td>\n      <td>0.0</td>\n    </tr>\n  </tbody>\n</table>\n<p>173912 rows × 10 columns</p>\n</div>"
     },
     "execution_count": 6,
     "metadata": {},
     "output_type": "execute_result"
    }
   ],
   "source": [
    "df1"
   ],
   "metadata": {
    "collapsed": false,
    "ExecuteTime": {
     "end_time": "2024-06-21T15:34:33.694193Z",
     "start_time": "2024-06-21T15:34:33.670377Z"
    }
   },
   "id": "3a67f5c55bf7d64d",
   "execution_count": 6
  },
  {
   "cell_type": "code",
   "outputs": [
    {
     "data": {
      "text/plain": "3802"
     },
     "execution_count": 7,
     "metadata": {},
     "output_type": "execute_result"
    }
   ],
   "source": [
    "df1.query('assessment_type == \"Exam\" and score >= 40')\\\n",
    "    .groupby('id_student',as_index=False).agg({'id_assessment':'count'})\\\n",
    "    .query('id_assessment == 1')\\\n",
    "    .id_student.count()"
   ],
   "metadata": {
    "collapsed": false,
    "ExecuteTime": {
     "end_time": "2024-06-21T15:34:33.758873Z",
     "start_time": "2024-06-21T15:34:33.700577Z"
    }
   },
   "id": "b25af881fb3f5eb7",
   "execution_count": 7
  },
  {
   "cell_type": "markdown",
   "source": [
    "## Успешно сдали только один курс 3802 студента"
   ],
   "metadata": {
    "collapsed": false
   },
   "id": "897a45c3d4279660"
  },
  {
   "cell_type": "markdown",
   "source": [
    "# 2) Выяви самый сложный и самый простой экзамен: найди курсы и экзамены в рамках курса, которые обладают самой низкой и самой высокой завершаемостью*"
   ],
   "metadata": {
    "collapsed": false
   },
   "id": "1cb3c172bd0b3aac"
  },
  {
   "cell_type": "code",
   "outputs": [],
   "source": [
    "df2 = studentAssessment.merge(assessments, on='id_assessment', how='inner')\\\n",
    "    .query('assessment_type == \"Exam\"').drop_duplicates()"
   ],
   "metadata": {
    "collapsed": false,
    "ExecuteTime": {
     "end_time": "2024-06-21T15:34:33.836629Z",
     "start_time": "2024-06-21T15:34:33.769395Z"
    }
   },
   "id": "a77b3e95b925d8b7",
   "execution_count": 8
  },
  {
   "cell_type": "code",
   "outputs": [],
   "source": [
    "df2['good_exam'] = df2.score.apply(lambda x: 1 if x>=40 else 0)"
   ],
   "metadata": {
    "collapsed": false,
    "ExecuteTime": {
     "end_time": "2024-06-21T15:34:33.848329Z",
     "start_time": "2024-06-21T15:34:33.837639Z"
    }
   },
   "id": "6115b401fbb38332",
   "execution_count": 9
  },
  {
   "cell_type": "code",
   "outputs": [],
   "source": [
    "df2_good_exam = df2.groupby(['code_module', 'code_presentation','id_assessment'],as_index=False)\\\n",
    "    .agg(all_attempts = ('good_exam', 'count'),\n",
    "    good_exam_sum =('good_exam', np.sum))"
   ],
   "metadata": {
    "collapsed": false
   },
   "id": "9e8b10cd501700eb",
   "execution_count": null
  },
  {
   "cell_type": "code",
   "outputs": [],
   "source": [
    "df2_good_exam['persent'] = round(df2_good_exam.good_exam_sum * 100/ df2_good_exam.all_attempts,2)"
   ],
   "metadata": {
    "collapsed": false,
    "ExecuteTime": {
     "end_time": "2024-06-21T15:34:33.896817Z",
     "start_time": "2024-06-21T15:34:33.889601Z"
    }
   },
   "id": "2242662e0a2f32be",
   "execution_count": 11
  },
  {
   "cell_type": "code",
   "outputs": [
    {
     "data": {
      "text/plain": "  code_module code_presentation  id_assessment  all_attempts  good_exam_sum  \\\n0         CCC             2014B          24290           747            664   \n1         CCC             2014J          24299          1168           1019   \n2         DDD             2013B          25340           602            504   \n3         DDD             2013J          25354           968            878   \n4         DDD             2014B          25361           524            485   \n5         DDD             2014J          25368           950            842   \n\n   persent  \n0    88.89  \n1    87.24  \n2    83.72  \n3    90.70  \n4    92.56  \n5    88.63  ",
      "text/html": "<div>\n<style scoped>\n    .dataframe tbody tr th:only-of-type {\n        vertical-align: middle;\n    }\n\n    .dataframe tbody tr th {\n        vertical-align: top;\n    }\n\n    .dataframe thead th {\n        text-align: right;\n    }\n</style>\n<table border=\"1\" class=\"dataframe\">\n  <thead>\n    <tr style=\"text-align: right;\">\n      <th></th>\n      <th>code_module</th>\n      <th>code_presentation</th>\n      <th>id_assessment</th>\n      <th>all_attempts</th>\n      <th>good_exam_sum</th>\n      <th>persent</th>\n    </tr>\n  </thead>\n  <tbody>\n    <tr>\n      <th>0</th>\n      <td>CCC</td>\n      <td>2014B</td>\n      <td>24290</td>\n      <td>747</td>\n      <td>664</td>\n      <td>88.89</td>\n    </tr>\n    <tr>\n      <th>1</th>\n      <td>CCC</td>\n      <td>2014J</td>\n      <td>24299</td>\n      <td>1168</td>\n      <td>1019</td>\n      <td>87.24</td>\n    </tr>\n    <tr>\n      <th>2</th>\n      <td>DDD</td>\n      <td>2013B</td>\n      <td>25340</td>\n      <td>602</td>\n      <td>504</td>\n      <td>83.72</td>\n    </tr>\n    <tr>\n      <th>3</th>\n      <td>DDD</td>\n      <td>2013J</td>\n      <td>25354</td>\n      <td>968</td>\n      <td>878</td>\n      <td>90.70</td>\n    </tr>\n    <tr>\n      <th>4</th>\n      <td>DDD</td>\n      <td>2014B</td>\n      <td>25361</td>\n      <td>524</td>\n      <td>485</td>\n      <td>92.56</td>\n    </tr>\n    <tr>\n      <th>5</th>\n      <td>DDD</td>\n      <td>2014J</td>\n      <td>25368</td>\n      <td>950</td>\n      <td>842</td>\n      <td>88.63</td>\n    </tr>\n  </tbody>\n</table>\n</div>"
     },
     "execution_count": 12,
     "metadata": {},
     "output_type": "execute_result"
    }
   ],
   "source": [
    "df2_good_exam"
   ],
   "metadata": {
    "collapsed": false,
    "ExecuteTime": {
     "end_time": "2024-06-21T15:34:33.924913Z",
     "start_time": "2024-06-21T15:34:33.900982Z"
    }
   },
   "id": "88ff84fe44d2f4f8",
   "execution_count": 12
  },
  {
   "cell_type": "code",
   "outputs": [
    {
     "data": {
      "text/plain": "  code_module code_presentation  id_assessment  all_attempts  good_exam_sum  \\\n4         DDD             2014B          25361           524            485   \n\n   persent  \n4    92.56  ",
      "text/html": "<div>\n<style scoped>\n    .dataframe tbody tr th:only-of-type {\n        vertical-align: middle;\n    }\n\n    .dataframe tbody tr th {\n        vertical-align: top;\n    }\n\n    .dataframe thead th {\n        text-align: right;\n    }\n</style>\n<table border=\"1\" class=\"dataframe\">\n  <thead>\n    <tr style=\"text-align: right;\">\n      <th></th>\n      <th>code_module</th>\n      <th>code_presentation</th>\n      <th>id_assessment</th>\n      <th>all_attempts</th>\n      <th>good_exam_sum</th>\n      <th>persent</th>\n    </tr>\n  </thead>\n  <tbody>\n    <tr>\n      <th>4</th>\n      <td>DDD</td>\n      <td>2014B</td>\n      <td>25361</td>\n      <td>524</td>\n      <td>485</td>\n      <td>92.56</td>\n    </tr>\n  </tbody>\n</table>\n</div>"
     },
     "execution_count": 13,
     "metadata": {},
     "output_type": "execute_result"
    }
   ],
   "source": [
    "df2_good_exam.sort_values('persent', ascending=False).head(1)"
   ],
   "metadata": {
    "collapsed": false,
    "ExecuteTime": {
     "end_time": "2024-06-21T15:34:33.942758Z",
     "start_time": "2024-06-21T15:34:33.926727Z"
    }
   },
   "id": "a75a99bb5034555f",
   "execution_count": 13
  },
  {
   "cell_type": "code",
   "outputs": [
    {
     "data": {
      "text/plain": "  code_module code_presentation  id_assessment  all_attempts  good_exam_sum  \\\n2         DDD             2013B          25340           602            504   \n\n   persent  \n2    83.72  ",
      "text/html": "<div>\n<style scoped>\n    .dataframe tbody tr th:only-of-type {\n        vertical-align: middle;\n    }\n\n    .dataframe tbody tr th {\n        vertical-align: top;\n    }\n\n    .dataframe thead th {\n        text-align: right;\n    }\n</style>\n<table border=\"1\" class=\"dataframe\">\n  <thead>\n    <tr style=\"text-align: right;\">\n      <th></th>\n      <th>code_module</th>\n      <th>code_presentation</th>\n      <th>id_assessment</th>\n      <th>all_attempts</th>\n      <th>good_exam_sum</th>\n      <th>persent</th>\n    </tr>\n  </thead>\n  <tbody>\n    <tr>\n      <th>2</th>\n      <td>DDD</td>\n      <td>2013B</td>\n      <td>25340</td>\n      <td>602</td>\n      <td>504</td>\n      <td>83.72</td>\n    </tr>\n  </tbody>\n</table>\n</div>"
     },
     "execution_count": 14,
     "metadata": {},
     "output_type": "execute_result"
    }
   ],
   "source": [
    "df2_good_exam.sort_values('persent', ascending=True).head(1)"
   ],
   "metadata": {
    "collapsed": false,
    "ExecuteTime": {
     "end_time": "2024-06-21T15:34:33.964147Z",
     "start_time": "2024-06-21T15:34:33.944877Z"
    }
   },
   "id": "8890b4efc0418d3c",
   "execution_count": 14
  },
  {
   "cell_type": "markdown",
   "source": [
    "## Самый сложный экзамен с ID 25340 был на курсе DDD, c 83.72 процентами удачных сдач\n",
    "## Самый простой экзамен с ID 25361 был так же на курсе DDD, с 92.56 процентами удачных сдач"
   ],
   "metadata": {
    "collapsed": false
   },
   "id": "5e4b4ce635cc12fa"
  },
  {
   "cell_type": "markdown",
   "source": [
    "# 3) По каждому предмету определи средний срок сдачи экзаменов (под сдачей понимаем последнее успешное прохождение экзамена студентом). "
   ],
   "metadata": {
    "collapsed": false
   },
   "id": "5c6c6751cc7e71c7"
  },
  {
   "cell_type": "code",
   "outputs": [],
   "source": [
    "df3 = studentAssessment.merge(assessments, on='id_assessment', how='inner')"
   ],
   "metadata": {
    "collapsed": false,
    "ExecuteTime": {
     "end_time": "2024-06-21T15:34:34.037613Z",
     "start_time": "2024-06-21T15:34:33.986258Z"
    }
   },
   "id": "ce843d09b021c61f",
   "execution_count": 15
  },
  {
   "cell_type": "code",
   "outputs": [
    {
     "data": {
      "text/plain": "        id_assessment  id_student  date_submitted  is_banked  score  \\\n0                1752       11391              18          0   78.0   \n1                1752       28400              22          0   70.0   \n2                1752       31604              17          0   72.0   \n3                1752       32885              26          0   69.0   \n4                1752       38053              19          0   79.0   \n...               ...         ...             ...        ...    ...   \n173907          37443      527538             227          0   60.0   \n173908          37443      534672             229          0  100.0   \n173909          37443      546286             215          0   80.0   \n173910          37443      546724             230          0  100.0   \n173911          37443      558486             224          0   80.0   \n\n       code_module code_presentation assessment_type   date  weight  \n0              AAA             2013J             TMA   19.0    10.0  \n1              AAA             2013J             TMA   19.0    10.0  \n2              AAA             2013J             TMA   19.0    10.0  \n3              AAA             2013J             TMA   19.0    10.0  \n4              AAA             2013J             TMA   19.0    10.0  \n...            ...               ...             ...    ...     ...  \n173907         GGG             2014J             CMA  229.0     0.0  \n173908         GGG             2014J             CMA  229.0     0.0  \n173909         GGG             2014J             CMA  229.0     0.0  \n173910         GGG             2014J             CMA  229.0     0.0  \n173911         GGG             2014J             CMA  229.0     0.0  \n\n[173912 rows x 10 columns]",
      "text/html": "<div>\n<style scoped>\n    .dataframe tbody tr th:only-of-type {\n        vertical-align: middle;\n    }\n\n    .dataframe tbody tr th {\n        vertical-align: top;\n    }\n\n    .dataframe thead th {\n        text-align: right;\n    }\n</style>\n<table border=\"1\" class=\"dataframe\">\n  <thead>\n    <tr style=\"text-align: right;\">\n      <th></th>\n      <th>id_assessment</th>\n      <th>id_student</th>\n      <th>date_submitted</th>\n      <th>is_banked</th>\n      <th>score</th>\n      <th>code_module</th>\n      <th>code_presentation</th>\n      <th>assessment_type</th>\n      <th>date</th>\n      <th>weight</th>\n    </tr>\n  </thead>\n  <tbody>\n    <tr>\n      <th>0</th>\n      <td>1752</td>\n      <td>11391</td>\n      <td>18</td>\n      <td>0</td>\n      <td>78.0</td>\n      <td>AAA</td>\n      <td>2013J</td>\n      <td>TMA</td>\n      <td>19.0</td>\n      <td>10.0</td>\n    </tr>\n    <tr>\n      <th>1</th>\n      <td>1752</td>\n      <td>28400</td>\n      <td>22</td>\n      <td>0</td>\n      <td>70.0</td>\n      <td>AAA</td>\n      <td>2013J</td>\n      <td>TMA</td>\n      <td>19.0</td>\n      <td>10.0</td>\n    </tr>\n    <tr>\n      <th>2</th>\n      <td>1752</td>\n      <td>31604</td>\n      <td>17</td>\n      <td>0</td>\n      <td>72.0</td>\n      <td>AAA</td>\n      <td>2013J</td>\n      <td>TMA</td>\n      <td>19.0</td>\n      <td>10.0</td>\n    </tr>\n    <tr>\n      <th>3</th>\n      <td>1752</td>\n      <td>32885</td>\n      <td>26</td>\n      <td>0</td>\n      <td>69.0</td>\n      <td>AAA</td>\n      <td>2013J</td>\n      <td>TMA</td>\n      <td>19.0</td>\n      <td>10.0</td>\n    </tr>\n    <tr>\n      <th>4</th>\n      <td>1752</td>\n      <td>38053</td>\n      <td>19</td>\n      <td>0</td>\n      <td>79.0</td>\n      <td>AAA</td>\n      <td>2013J</td>\n      <td>TMA</td>\n      <td>19.0</td>\n      <td>10.0</td>\n    </tr>\n    <tr>\n      <th>...</th>\n      <td>...</td>\n      <td>...</td>\n      <td>...</td>\n      <td>...</td>\n      <td>...</td>\n      <td>...</td>\n      <td>...</td>\n      <td>...</td>\n      <td>...</td>\n      <td>...</td>\n    </tr>\n    <tr>\n      <th>173907</th>\n      <td>37443</td>\n      <td>527538</td>\n      <td>227</td>\n      <td>0</td>\n      <td>60.0</td>\n      <td>GGG</td>\n      <td>2014J</td>\n      <td>CMA</td>\n      <td>229.0</td>\n      <td>0.0</td>\n    </tr>\n    <tr>\n      <th>173908</th>\n      <td>37443</td>\n      <td>534672</td>\n      <td>229</td>\n      <td>0</td>\n      <td>100.0</td>\n      <td>GGG</td>\n      <td>2014J</td>\n      <td>CMA</td>\n      <td>229.0</td>\n      <td>0.0</td>\n    </tr>\n    <tr>\n      <th>173909</th>\n      <td>37443</td>\n      <td>546286</td>\n      <td>215</td>\n      <td>0</td>\n      <td>80.0</td>\n      <td>GGG</td>\n      <td>2014J</td>\n      <td>CMA</td>\n      <td>229.0</td>\n      <td>0.0</td>\n    </tr>\n    <tr>\n      <th>173910</th>\n      <td>37443</td>\n      <td>546724</td>\n      <td>230</td>\n      <td>0</td>\n      <td>100.0</td>\n      <td>GGG</td>\n      <td>2014J</td>\n      <td>CMA</td>\n      <td>229.0</td>\n      <td>0.0</td>\n    </tr>\n    <tr>\n      <th>173911</th>\n      <td>37443</td>\n      <td>558486</td>\n      <td>224</td>\n      <td>0</td>\n      <td>80.0</td>\n      <td>GGG</td>\n      <td>2014J</td>\n      <td>CMA</td>\n      <td>229.0</td>\n      <td>0.0</td>\n    </tr>\n  </tbody>\n</table>\n<p>173912 rows × 10 columns</p>\n</div>"
     },
     "execution_count": 16,
     "metadata": {},
     "output_type": "execute_result"
    }
   ],
   "source": [
    "df3"
   ],
   "metadata": {
    "collapsed": false,
    "ExecuteTime": {
     "end_time": "2024-06-21T15:34:34.070377Z",
     "start_time": "2024-06-21T15:34:34.039623Z"
    }
   },
   "id": "2404443d757ab430",
   "execution_count": 16
  }
 ],
 "metadata": {
  "kernelspec": {
   "display_name": "Python 3",
   "language": "python",
   "name": "python3"
  },
  "language_info": {
   "codemirror_mode": {
    "name": "ipython",
    "version": 2
   },
   "file_extension": ".py",
   "mimetype": "text/x-python",
   "name": "python",
   "nbconvert_exporter": "python",
   "pygments_lexer": "ipython2",
   "version": "2.7.6"
  }
 },
 "nbformat": 4,
 "nbformat_minor": 5
}
